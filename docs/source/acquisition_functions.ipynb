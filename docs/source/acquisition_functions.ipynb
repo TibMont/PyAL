{
 "cells": [
  {
   "cell_type": "markdown",
   "metadata": {},
   "source": [
    "# Acquisition functions\n",
    "PyAL makes use of so-called acquisition functions. After a model is fitted, the acquisition function is calculated for all potential data points which are not evaluated yet. Then the maxima of the acquisition function tell the program which data points should be added to the data set within the Active Learning process.\n",
    "Basically, PyAL uses a 5-step scheme:\n",
    "1. Fit a model\n",
    "2. Calculate the acquisition function based on the models prediction and find its maximum\n",
    "3. Calculate the true value for the data point with the (global) maximum\n",
    "4. Add the data point to the data set\n",
    "5. Repeat 1-4\n",
    "\n",
    "You repeat this until you are satisified with the accuracy of the model or until you have picked a maximum number of data points.\n",
    "Batch-wise learning is realized as the following:\n",
    "1. Fit a model\n",
    "2. Calculate the acquisition function based on the models prediction and find its maximum\n",
    "3. Assume that the true value of the data point with the (global) maximum is equal to the models prediction\n",
    "4. Add the data point to the data set and mark it as approximated\n",
    "5. Repeat 1-4 until you have added the desired number of data points in your batch\n",
    "6. Calculate the true value for all data points marked as approximated and change the values accordingly. \n",
    "7. Repeat 1-6\n",
    "\n",
    "Again, you repeat this scheme until you are satisfied with the accuracy of the model or until you have picked a maximum number of data points or batches. \n",
    "\n",
    "PyAL provides a number of different acquisition functions mainly taken from [1](https://doi.org/10.1016/j.ins.2018.09.060) and [2](https://doi.org/10.1016/j.ins.2023.01.028) for optimizing the whole model. \n",
    "Furthermore, acquisition functions known from Bayesian Optimization are implemented which can be used to find the maximum of a function quickly.\n",
    "\n",
    "The following acquisition functions are implemented:\n",
    "\n",
    "1. GSx [[1](https://doi.org/10.1016/j.ins.2018.09.060)]\n",
    "2. GSy [[1](https://doi.org/10.1016/j.ins.2018.09.060)]\n",
    "3. iGS [[1](https://doi.org/10.1016/j.ins.2018.09.060)]\n",
    "4. IDEAL [[2](https://doi.org/10.1016/j.ins.2023.01.028)]\n",
    "5. UCB - Upper Confidence Bound [[3](https://ekamperi.github.io/machine%20learning/2021/06/11/acquisition-functions.html)]\n",
    "6. POI - Probability of Improvement [[3](https://ekamperi.github.io/machine%20learning/2021/06/11/acquisition-functions.html)]\n",
    "7. EI - Expected Improvement [[3](https://ekamperi.github.io/machine%20learning/2021/06/11/acquisition-functions.html)]\n",
    "8. QBC - Query by Commitee\n",
    "9. std - Standard deviation\n",
    "10. UIDAL - self-designed: Using parts of IDEAL + std\n",
    "11. SGSx - self-designed: Weighted GSx + std\n",
    "\n",
    "\n",
    "Note that there are different implementations of acquisition functions available, either desired for calculating the acquisition function for all data points in a pool (acfn_discrete module) or for finding the maximum of the acquisition function together with global optimization routines (acfn_continuous module).\n",
    "\n",
    "Not all acquisition functions can be used with all scikit-learn model types. All models requiring an uncertainty or standard deviation can only be used with Gaussian Process Regression models in this version of code. "
   ]
  },
  {
   "cell_type": "markdown",
   "metadata": {},
   "source": [
    "## Description of some acquisition functions\n",
    "For functions not described here or for further information please see the references.\n",
    "\n",
    "### UCB\n",
    "The Upper Confidence Bound is given as\n",
    "$$\n",
    "UCB = \\mu + \\lambda\\sigma\n",
    "$$\n",
    "where $\\mu$ is the predicted value for a data point and $\\sigma$ is the uncertainty. $\\alpha$ is a weighting factor.\n",
    "\n",
    "### POI\n",
    "The Probability of Improvement is given as\n",
    "$$\n",
    "POI = \\Phi\\left(\\frac{\\mu - f_\\mathrm{max} - \\alpha}{\\sigma}\\right)\n",
    "$$\n",
    "where $f_\\mathrm{max}$ is the maximum value of the function found so far, $\\alpha$ is an hyperparameter which can be used to adjust the maximum and enforce more exploration or exploitation in this way. $\\Phi$ is the cummulative distribution function given as $\\Phi(x) = P(X \\leqslant x)$.\n",
    "\n",
    "### EI\n",
    "The Expected Improvement is given as\n",
    "$$\n",
    "EI = (\\mu-f_\\mathrm{max}-\\alpha) \\Phi\\left(\\frac{\\mu - f_\\mathrm{max} - \\alpha}{\\sigma}\\right) + \\sigma\\Theta\\left(\\frac{\\mu - f_\\mathrm{max} - \\alpha}{\\sigma}\\right)\n",
    "$$\n",
    "where $\\Theta$ is the probability density function. If the hyperparameter $\\alpha>0$ the algorithm tends toward more exploration instead of exploitation by assuming a larger maximum than actually found.\n",
    "\n",
    "Note that POI and EI can also be formulated as a minimization problem instead of a maximization problem when searching for the minimum of a function.\n",
    "\n",
    "### QBC\n",
    "A number of $\\alpha$ models is trained. Data points where the models disagree most are selected for adding to the data set.\n",
    "\n",
    "### Standard deviation\n",
    "Uses the standard deviation $\\sigma$ predicted by GPR models.\n",
    "\n",
    "### UIDAL\n",
    "The UIDAL function is given as:\n",
    "$$\n",
    "UIDAL = \\sigma + \\alpha Z \n",
    "$$\n",
    "where Z is taken from the IDEAL algorithm.\n",
    "\n",
    "### SGSx\n",
    "The SGSx function is given as \n",
    "$$\n",
    "SGSx = \\sigma^\\alpha + GSx^{1-\\alpha}\n",
    "$$\n",
    "with a hyperparameter $0\\leqslant\\alpha\\leqslant1$."
   ]
  },
  {
   "cell_type": "markdown",
   "metadata": {},
   "source": [
    "## Custom acquisition functions\n",
    "Currently it is not possible to use custom acquisition functions for nearly all active learning routines. There is an experimental feature which allows custom acquisition functions in the `run_continuous_batch_learning` function. \n",
    "Just provide a callable as the acquisition function and provide the custom_acfn_list as a further parameter.\n",
    "\n",
    "This is a list of arguments which the custom acquisition function takes as input. It is important that the callable takes the arguments in the described order. The arguments must also be named as described here:\n",
    "\n",
    "- x0: First argument, does not need to appear in this list.\n",
    "- x: Values of the features of all evaluated samples\n",
    "- y: Objective values of all evaluated samples\n",
    "- max_y: Maximum observed value of all evaluated samples regression_model: sklearn model used for the fitting\n",
    "- lim: boundary \n",
    "- alpha: hyperparameter\n",
    "- poly_x: sklearn poly_transformer. Must be given if a linear regression model should be used with the acquisition function\n",
    "\n",
    "The callable must return the value of the acquisition function as a float or as a numpy_array of floats.\n",
    "In the example below, we show how a custom acquisition function can be used. We just take a similar example as in the Introduction notebook."
   ]
  },
  {
   "cell_type": "code",
   "execution_count": 1,
   "metadata": {},
   "outputs": [
    {
     "name": "stdout",
     "output_type": "stream",
     "text": [
      "Disabled warnings\n"
     ]
    }
   ],
   "source": [
    "import numpy as np\n",
    "import pandas as pd\n",
    "import matplotlib.pyplot as plt\n",
    "\n",
    "from PyAL.models import inv_sphere\n",
    "from PyAL.optimize import run_continuous_batch_learning\n",
    "\n",
    "from sklearn.gaussian_process import GaussianProcessRegressor as GPR\n",
    "from sklearn.gaussian_process.kernels import RBF, WhiteKernel\n",
    "\n",
    "from scipy.stats import norm\n",
    "\n",
    "random_state=41"
   ]
  },
  {
   "cell_type": "code",
   "execution_count": 2,
   "metadata": {},
   "outputs": [],
   "source": [
    "#Parameters for grid\n",
    "grid_size = 100     #Number of data points per dimension\n",
    "dimensions = 1      #Number of dimensions\n",
    "lim = [[-2,],[2,]]  #Bounds for each dimension. First lower bounds, than upper bounds\n",
    "\n",
    "#Create a grid for arbitrary number of dimensions\n",
    "x = []\n",
    "[x.append(np.linspace(lim[0][i],lim[1][i], grid_size )) for i in range(dimensions)]\n",
    "pool = np.meshgrid(*x)\n",
    "pool = np.array(pool).T\n",
    "test_pool = pool.reshape(grid_size**dimensions, dimensions)\n",
    "\n",
    "#Data model\n",
    "data_model = inv_sphere(d=dimensions, random_state=random_state)\n",
    "noise = np.sqrt(1e-6)\n",
    "\n",
    "#Regression model\n",
    "kernel = RBF(length_scale=1, length_scale_bounds=[0.05,100])+WhiteKernel()\n",
    "regression_model = GPR(kernel)\n",
    "\n",
    "#Active Learning parameters\n",
    "initial_samples=5  #Number of initial data points \n",
    "max_samples=12     #Number of data points that are maximally acquired \n",
    "batch_size=1        #Collect data points in batches of five before evaluating the model with a test data set\n",
    "n_repetitions=1     #Repeat the active learning only once\n",
    "  \n",
    "initialization_method = 'random'   #Algorithm to collect initial data\n",
    "optimization_method = 'PSO'        #Algorithm to search for the maximum of the acquisition function. Choose from 'PSO' or 'lbfgs'AttributeError\n",
    "n_jobs = 1                         #Number of jobs to start for parallel computing\n",
    "\n",
    "pso_options = {'c1': 0.5, 'c2': 0.3, 'w': 0.9, 'p':10*dimensions, 'i':50}  #Options for particle swarm optimization\n",
    "\n",
    "active_learning_steps = int((max_samples-initial_samples)/batch_size) #Number of AL steps is calculated automatically"
   ]
  },
  {
   "cell_type": "markdown",
   "metadata": {},
   "source": [
    "Now, we can define our own acquisition function. Here, we just use the basic Expected Improvement function for illustration purposes."
   ]
  },
  {
   "cell_type": "code",
   "execution_count": 3,
   "metadata": {},
   "outputs": [],
   "source": [
    "custom_acfn_input = ['regression_model', 'max_y', 'alpha'] #Here are all arguments listet that EI_con takes as input\n",
    "\n",
    "#This is the expected Improvement acquisition function\n",
    "def EI(x, regression_model, max_y, alpha=0):\n",
    "    if len(x.shape) == 1:\n",
    "        x = x.reshape(1,-1)\n",
    "    mean, uncertainty = regression_model.predict(x, return_std=True)\n",
    "    f_max = max_y\n",
    "    cdf = norm.cdf((mean-f_max-alpha)/uncertainty)\n",
    "    pdf = norm.pdf((mean-f_max-alpha)/uncertainty)\n",
    "    ei = (mean-f_max-alpha)*cdf + uncertainty*pdf\n",
    "    return -ei"
   ]
  },
  {
   "cell_type": "markdown",
   "metadata": {},
   "source": [
    "Then, we just run the Active Learning (or Bayesian Optimization in the case of EI) with our custom acquisition function."
   ]
  },
  {
   "cell_type": "code",
   "execution_count": 4,
   "metadata": {},
   "outputs": [
    {
     "name": "stdout",
     "output_type": "stream",
     "text": [
      "Using a custom acquisition function. This is an experimental feature. Please be careful.\n"
     ]
    }
   ],
   "source": [
    "samples, result = run_continuous_batch_learning(data_model, \n",
    "            regression_model,\n",
    "            acquisition_function = EI,\n",
    "            opt_method = optimization_method,\n",
    "            pool = test_pool, \n",
    "            batch_size=batch_size,\n",
    "            noise=noise,\n",
    "            initial_samples=initial_samples, \n",
    "            active_learning_steps=active_learning_steps,\n",
    "            lim=lim,\n",
    "            alpha=0,\n",
    "            n_jobs=n_jobs,\n",
    "            random_state=random_state,\n",
    "            calculate_test_metrics=True,\n",
    "            initialization=initialization_method,\n",
    "            pso_options=pso_options,\n",
    "            custom_acfn_input=custom_acfn_input\n",
    "            )\n"
   ]
  },
  {
   "cell_type": "markdown",
   "metadata": {},
   "source": [
    "And finally, we plot the results of our Bayesian Optimization."
   ]
  },
  {
   "cell_type": "code",
   "execution_count": 5,
   "metadata": {},
   "outputs": [
    {
     "data": {
      "text/plain": [
       "Text(0, 0.5, 'y')"
      ]
     },
     "execution_count": 5,
     "metadata": {},
     "output_type": "execute_result"
    },
    {
     "data": {
      "image/png": "[encoded data removed]",
      "text/plain": [
       "<Figure size 1200x440 with 2 Axes>"
      ]
     },
     "metadata": {},
     "output_type": "display_data"
    }
   ],
   "source": [
    "fig, (ax1, ax2) = plt.subplots(1, 2, figsize=(12,4.4))\n",
    "ax1.plot(test_pool, data_model.evaluate(test_pool))\n",
    "ax2.plot(test_pool, data_model.evaluate(test_pool))\n",
    "\n",
    "x_s = samples\n",
    "y_s = data_model.evaluate(samples)\n",
    "\n",
    "ax1.plot(x_s, y_s, 'ro')\n",
    "for txt in range(len(x_s)):\n",
    "    ax1.annotate(txt+1, (x_s[txt], y_s[txt]))\n",
    "ax2.plot(x_s, y_s, 'ro')\n",
    "for txt in range(len(x_s)):\n",
    "    ax2.annotate(txt+1, (x_s[txt], y_s[txt]))\n",
    "ax2.set_xlim(-0.1, 0.1)\n",
    "ax2.set_ylim(-0.02, 0.01)\n",
    "ax1.set_xlabel('x')\n",
    "ax1.set_ylabel('y')\n",
    "ax2.set_xlabel('x')\n",
    "ax2.set_ylabel('y')"
   ]
  },
  {
   "cell_type": "markdown",
   "metadata": {},
   "source": [
    "Side note: If you want to use an already implemented acquisition function in PyAL, just provide the corresponding string as the `acquisition_function` parameter."
   ]
  },
  {
   "cell_type": "markdown",
   "metadata": {},
   "source": [
    "[1] Wu, D.; Lin, C.-T.; Huang, J. Information Sciences 2019, 474, 90–105., doi: https://doi.org/10.1016/j.ins.2018.09.060. <br>\n",
    "[2] Bemporad, A. Information Sciences 2023, 626, 275–292.,doi: https://doi.org/10.1016/j.ins.2023.01.028. <br>\n",
    "[3] https://ekamperi.github.io/machine%20learning/2021/06/11/acquisition-functions.html"
   ]
  }
 ],
 "metadata": {
  "kernelspec": {
   "display_name": "LECA_dev",
   "language": "python",
   "name": "python3"
  },
  "language_info": {
   "codemirror_mode": {
    "name": "ipython",
    "version": 3
   },
   "file_extension": ".py",
   "mimetype": "text/x-python",
   "name": "python",
   "nbconvert_exporter": "python",
   "pygments_lexer": "ipython3",
   "version": "3.9.0"
  }
 },
 "nbformat": 4,
 "nbformat_minor": 2
}
