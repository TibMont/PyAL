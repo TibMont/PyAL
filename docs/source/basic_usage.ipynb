{
 "cells": [
  {
   "cell_type": "markdown",
   "metadata": {},
   "source": [
    "# Introduction to Python Active Learning (PyAL)\n",
    "PyAL is developed to solve a large range of Active Learning problems by making use of so called acquisition functions. \n",
    "This enables to choose from a broad range of settings for running the Active Learning. PyAL enables pool based learning as well as population based learning. It also allows to find several suggested data points in one iteration. \n",
    "By the choice of the acquisition function one can control whether the model function that approximates the true data is optimized only close to the maximum in order to find that maximum or whether the full model function is optimized. \n",
    "PyAL is compatible with most of sklearns regression models and also can use linear regression models."
   ]
  },
  {
   "cell_type": "markdown",
   "metadata": {},
   "source": [
    "The usage of PyAL is very simple. First, we need to import some libraries."
   ]
  },
  {
   "cell_type": "code",
   "execution_count": 22,
   "metadata": {},
   "outputs": [],
   "source": [
    "import numpy as np\n",
    "import pandas as pd\n",
    "import matplotlib.pyplot as plt\n",
    "\n",
    "from PyAL.models import inv_sphere\n",
    "from PyAL.optimize import run_continuous_batch_learning\n",
    "\n",
    "from sklearn.gaussian_process import GaussianProcessRegressor as GPR\n",
    "from sklearn.gaussian_process.kernels import RBF, WhiteKernel\n",
    "\n",
    "random_state=41"
   ]
  },
  {
   "cell_type": "markdown",
   "metadata": {},
   "source": [
    "Now, we create some test data by first setting some parameters. For this basic example, we use only 1D data with a grid spacing of 100 data points in any dimension in the intervall [-2,2]. "
   ]
  },
  {
   "cell_type": "code",
   "execution_count": 23,
   "metadata": {},
   "outputs": [
    {
     "data": {
      "text/plain": [
       "array([[-2.        ],\n",
       "       [-1.95959596],\n",
       "       [-1.91919192],\n",
       "       [-1.87878788],\n",
       "       [-1.83838384],\n",
       "       [-1.7979798 ],\n",
       "       [-1.75757576],\n",
       "       [-1.71717172],\n",
       "       [-1.67676768],\n",
       "       [-1.63636364],\n",
       "       [-1.5959596 ],\n",
       "       [-1.55555556],\n",
       "       [-1.51515152],\n",
       "       [-1.47474747],\n",
       "       [-1.43434343],\n",
       "       [-1.39393939],\n",
       "       [-1.35353535],\n",
       "       [-1.31313131],\n",
       "       [-1.27272727],\n",
       "       [-1.23232323],\n",
       "       [-1.19191919],\n",
       "       [-1.15151515],\n",
       "       [-1.11111111],\n",
       "       [-1.07070707],\n",
       "       [-1.03030303],\n",
       "       [-0.98989899],\n",
       "       [-0.94949495],\n",
       "       [-0.90909091],\n",
       "       [-0.86868687],\n",
       "       [-0.82828283],\n",
       "       [-0.78787879],\n",
       "       [-0.74747475],\n",
       "       [-0.70707071],\n",
       "       [-0.66666667],\n",
       "       [-0.62626263],\n",
       "       [-0.58585859],\n",
       "       [-0.54545455],\n",
       "       [-0.50505051],\n",
       "       [-0.46464646],\n",
       "       [-0.42424242],\n",
       "       [-0.38383838],\n",
       "       [-0.34343434],\n",
       "       [-0.3030303 ],\n",
       "       [-0.26262626],\n",
       "       [-0.22222222],\n",
       "       [-0.18181818],\n",
       "       [-0.14141414],\n",
       "       [-0.1010101 ],\n",
       "       [-0.06060606],\n",
       "       [-0.02020202],\n",
       "       [ 0.02020202],\n",
       "       [ 0.06060606],\n",
       "       [ 0.1010101 ],\n",
       "       [ 0.14141414],\n",
       "       [ 0.18181818],\n",
       "       [ 0.22222222],\n",
       "       [ 0.26262626],\n",
       "       [ 0.3030303 ],\n",
       "       [ 0.34343434],\n",
       "       [ 0.38383838],\n",
       "       [ 0.42424242],\n",
       "       [ 0.46464646],\n",
       "       [ 0.50505051],\n",
       "       [ 0.54545455],\n",
       "       [ 0.58585859],\n",
       "       [ 0.62626263],\n",
       "       [ 0.66666667],\n",
       "       [ 0.70707071],\n",
       "       [ 0.74747475],\n",
       "       [ 0.78787879],\n",
       "       [ 0.82828283],\n",
       "       [ 0.86868687],\n",
       "       [ 0.90909091],\n",
       "       [ 0.94949495],\n",
       "       [ 0.98989899],\n",
       "       [ 1.03030303],\n",
       "       [ 1.07070707],\n",
       "       [ 1.11111111],\n",
       "       [ 1.15151515],\n",
       "       [ 1.19191919],\n",
       "       [ 1.23232323],\n",
       "       [ 1.27272727],\n",
       "       [ 1.31313131],\n",
       "       [ 1.35353535],\n",
       "       [ 1.39393939],\n",
       "       [ 1.43434343],\n",
       "       [ 1.47474747],\n",
       "       [ 1.51515152],\n",
       "       [ 1.55555556],\n",
       "       [ 1.5959596 ],\n",
       "       [ 1.63636364],\n",
       "       [ 1.67676768],\n",
       "       [ 1.71717172],\n",
       "       [ 1.75757576],\n",
       "       [ 1.7979798 ],\n",
       "       [ 1.83838384],\n",
       "       [ 1.87878788],\n",
       "       [ 1.91919192],\n",
       "       [ 1.95959596],\n",
       "       [ 2.        ]])"
      ]
     },
     "execution_count": 23,
     "metadata": {},
     "output_type": "execute_result"
    }
   ],
   "source": [
    "#Parameters for grid\n",
    "grid_size = 100     #Number of data points per dimension\n",
    "dimensions = 1      #Number of dimensions\n",
    "lim = [[-2,],[2,]]  #Bounds for each dimension. First lower bounds, than upper bounds\n",
    "\n",
    "#Create a grid for arbitrary number of dimensions\n",
    "x = []\n",
    "[x.append(np.linspace(lim[0][i],lim[1][i], grid_size )) for i in range(dimensions)]\n",
    "pool = np.meshgrid(*x)\n",
    "pool = np.array(pool).T\n",
    "test_pool = pool.reshape(grid_size**dimensions, dimensions)\n",
    "test_pool"
   ]
  },
  {
   "cell_type": "markdown",
   "metadata": {},
   "source": [
    "Next, we define a data_model. The data model represents the true underlying data in this case. We sample data from this model, where we can also decide that this data is noisy. Therefore, we set the noise parameter."
   ]
  },
  {
   "cell_type": "code",
   "execution_count": 24,
   "metadata": {},
   "outputs": [],
   "source": [
    "#Data model\n",
    "data_model = inv_sphere(d=dimensions, random_state=random_state)\n",
    "noise = np.sqrt(1e-6)"
   ]
  },
  {
   "cell_type": "markdown",
   "metadata": {},
   "source": [
    "Then, we define a machine learning model that is used to approximate the true data. Here, we decide for a Gaussian Process Regression model with the standard RBF kernel and an additional WhiteKernel."
   ]
  },
  {
   "cell_type": "code",
   "execution_count": 25,
   "metadata": {},
   "outputs": [],
   "source": [
    "kernel = RBF(length_scale=1, length_scale_bounds=[0.05,100])+WhiteKernel()\n",
    "regression_model = GPR(kernel)"
   ]
  },
  {
   "cell_type": "markdown",
   "metadata": {},
   "source": [
    "Now, we are equipped with everything to start the actual active learning routine. But before we call this routine, we need to define some parameters. Most parameters have default values that you can look up in the documentation."
   ]
  },
  {
   "cell_type": "code",
   "execution_count": 32,
   "metadata": {},
   "outputs": [],
   "source": [
    "initial_samples=5  #Number of initial data points \n",
    "max_samples=30     #Number of data points that are maximally acquired \n",
    "batch_size=5        #Collect data points in batches of five before evaluating the model with a test data set\n",
    "n_repetitions=1     #Repeat the active learning only once\n",
    "  \n",
    "initialization_method = 'random'   #Algorithm to collect initial data\n",
    "optimization_method = 'PSO'        #Algorithm to search for the maximum of the acquisition function. Choose from 'PSO' or 'lbfgs'AttributeError\n",
    "n_jobs = 1                         #Number of jobs to start for parallel computing\n",
    "\n",
    "pso_options = {'c1': 0.5, 'c2': 0.3, 'w': 0.9, 'p':10*dimensions, 'i':50}  #Options for particle swarm optimization\n",
    "\n",
    "active_learning_steps = int((max_samples-initial_samples)/batch_size) #Number of AL steps is calculated automatically"
   ]
  },
  {
   "cell_type": "markdown",
   "metadata": {},
   "source": [
    "In this example, we want to compare the performance of 4 different acquisition functions, which we define below. In the dictionary, we save the name of the acquisition function together with a hyperparameter alpha. This is only used for the 'ideal' algorithm here."
   ]
  },
  {
   "cell_type": "code",
   "execution_count": 33,
   "metadata": {},
   "outputs": [],
   "source": [
    "acquisition_functions = {'random':[0], 'ideal': [10], 'std': [0], 'GSx':[0]} "
   ]
  },
  {
   "cell_type": "markdown",
   "metadata": {},
   "source": [
    "To save the results, we create a dictionary that contains an empty data frame for each acquisition function. "
   ]
  },
  {
   "cell_type": "code",
   "execution_count": 41,
   "metadata": {},
   "outputs": [
    {
     "data": {
      "text/plain": [
       "{'random_0': Empty DataFrame\n",
       " Columns: []\n",
       " Index: [],\n",
       " 'ideal_10': Empty DataFrame\n",
       " Columns: []\n",
       " Index: [],\n",
       " 'std_0': Empty DataFrame\n",
       " Columns: []\n",
       " Index: [],\n",
       " 'GSx_0': Empty DataFrame\n",
       " Columns: []\n",
       " Index: []}"
      ]
     },
     "execution_count": 41,
     "metadata": {},
     "output_type": "execute_result"
    }
   ],
   "source": [
    "score_dict = {}\n",
    "for acquisition_function, alpha_values in acquisition_functions.items():\n",
    "    for alpha in alpha_values:\n",
    "        key = acquisition_function+'_'+str(alpha)\n",
    "        score_dict[key] = pd.DataFrame()\n",
    "\n",
    "score_dict"
   ]
  },
  {
   "cell_type": "markdown",
   "metadata": {},
   "source": [
    "No, we run the Active Learning algorithm. We repeat the AL experiment only once here, so the first loop is currently of no relevance. However, you can increase n_repetitions to run several AL experiments with different random seeds. For getting meaningful results when comparing different algorithms, it is suggested to run the AL experiment several times. \n",
    "Note that in the final application the AL experiment is only run once and without testing the models."
   ]
  },
  {
   "cell_type": "code",
   "execution_count": 42,
   "metadata": {},
   "outputs": [
    {
     "name": "stdout",
     "output_type": "stream",
     "text": [
      "random 0\n",
      "ideal 10\n",
      "std 0\n",
      "GSx 0\n"
     ]
    }
   ],
   "source": [
    "for i in range(n_repetitions):\n",
    "    random_state += 1\n",
    "    \n",
    "    for acquisition_function, alpha_values in acquisition_functions.items():\n",
    "        for alpha in alpha_values:\n",
    "            print(acquisition_function, alpha)\n",
    "\n",
    "            samples, result = run_continuous_batch_learning(data_model, \n",
    "            regression_model,\n",
    "            acquisition_function = acquisition_function,\n",
    "            opt_method = optimization_method,\n",
    "            pool = test_pool, \n",
    "            batch_size=batch_size,\n",
    "            noise=noise,\n",
    "            initial_samples=initial_samples, \n",
    "            active_learning_steps=active_learning_steps,\n",
    "            lim=lim,\n",
    "            alpha=alpha,\n",
    "            n_jobs=n_jobs,\n",
    "            random_state=random_state,\n",
    "            calculate_test_metrics=True,\n",
    "            initialization=initialization_method,\n",
    "            pso_options=pso_options\n",
    "            )\n",
    "\n",
    "            key = acquisition_function+'_'+str(alpha)\n",
    "            score_dict[key] = pd.concat([score_dict[key], result])"
   ]
  },
  {
   "cell_type": "markdown",
   "metadata": {},
   "source": [
    "As an output we get the acquired data points in the order they were acquired and also the result data frame which we save. You can see how this data frame looks like below. The mean squared error (MSE) the maximum error (MaxE), the mean absolute error (MAE) and the maximum observed value are stored."
   ]
  },
  {
   "cell_type": "code",
   "execution_count": 43,
   "metadata": {},
   "outputs": [
    {
     "data": {
      "text/html": [
       "<div>\n",
       "<style scoped>\n",
       "    .dataframe tbody tr th:only-of-type {\n",
       "        vertical-align: middle;\n",
       "    }\n",
       "\n",
       "    .dataframe tbody tr th {\n",
       "        vertical-align: top;\n",
       "    }\n",
       "\n",
       "    .dataframe thead th {\n",
       "        text-align: right;\n",
       "    }\n",
       "</style>\n",
       "<table border=\"1\" class=\"dataframe\">\n",
       "  <thead>\n",
       "    <tr style=\"text-align: right;\">\n",
       "      <th></th>\n",
       "      <th>m</th>\n",
       "      <th>mean_MSE_train</th>\n",
       "      <th>mean_MAE_train</th>\n",
       "      <th>mean_MaxE_train</th>\n",
       "      <th>mean_MSE_test</th>\n",
       "      <th>mean_MAE_test</th>\n",
       "      <th>mean_MaxE_test</th>\n",
       "      <th>max_observation</th>\n",
       "    </tr>\n",
       "  </thead>\n",
       "  <tbody>\n",
       "    <tr>\n",
       "      <th>0</th>\n",
       "      <td>5.0</td>\n",
       "      <td>0.022282</td>\n",
       "      <td>0.139239</td>\n",
       "      <td>0.203310</td>\n",
       "      <td>0.790836</td>\n",
       "      <td>0.511746</td>\n",
       "      <td>2.834259</td>\n",
       "      <td>-0.001652</td>\n",
       "    </tr>\n",
       "    <tr>\n",
       "      <th>1</th>\n",
       "      <td>10.0</td>\n",
       "      <td>0.000003</td>\n",
       "      <td>0.001307</td>\n",
       "      <td>0.002930</td>\n",
       "      <td>0.006446</td>\n",
       "      <td>0.042769</td>\n",
       "      <td>0.438585</td>\n",
       "      <td>-0.001652</td>\n",
       "    </tr>\n",
       "    <tr>\n",
       "      <th>2</th>\n",
       "      <td>15.0</td>\n",
       "      <td>0.000002</td>\n",
       "      <td>0.001148</td>\n",
       "      <td>0.002841</td>\n",
       "      <td>0.000373</td>\n",
       "      <td>0.008979</td>\n",
       "      <td>0.102833</td>\n",
       "      <td>-0.001652</td>\n",
       "    </tr>\n",
       "    <tr>\n",
       "      <th>3</th>\n",
       "      <td>20.0</td>\n",
       "      <td>0.000003</td>\n",
       "      <td>0.001405</td>\n",
       "      <td>0.003578</td>\n",
       "      <td>0.000169</td>\n",
       "      <td>0.004992</td>\n",
       "      <td>0.087969</td>\n",
       "      <td>-0.001652</td>\n",
       "    </tr>\n",
       "    <tr>\n",
       "      <th>4</th>\n",
       "      <td>25.0</td>\n",
       "      <td>0.000003</td>\n",
       "      <td>0.001277</td>\n",
       "      <td>0.003782</td>\n",
       "      <td>0.000146</td>\n",
       "      <td>0.004689</td>\n",
       "      <td>0.081639</td>\n",
       "      <td>-0.001652</td>\n",
       "    </tr>\n",
       "    <tr>\n",
       "      <th>5</th>\n",
       "      <td>30.0</td>\n",
       "      <td>0.000003</td>\n",
       "      <td>0.001267</td>\n",
       "      <td>0.003703</td>\n",
       "      <td>0.000149</td>\n",
       "      <td>0.004694</td>\n",
       "      <td>0.082585</td>\n",
       "      <td>-0.001652</td>\n",
       "    </tr>\n",
       "  </tbody>\n",
       "</table>\n",
       "</div>"
      ],
      "text/plain": [
       "      m  mean_MSE_train  mean_MAE_train  mean_MaxE_train  mean_MSE_test  \\\n",
       "0   5.0        0.022282        0.139239         0.203310       0.790836   \n",
       "1  10.0        0.000003        0.001307         0.002930       0.006446   \n",
       "2  15.0        0.000002        0.001148         0.002841       0.000373   \n",
       "3  20.0        0.000003        0.001405         0.003578       0.000169   \n",
       "4  25.0        0.000003        0.001277         0.003782       0.000146   \n",
       "5  30.0        0.000003        0.001267         0.003703       0.000149   \n",
       "\n",
       "   mean_MAE_test  mean_MaxE_test  max_observation  \n",
       "0       0.511746        2.834259        -0.001652  \n",
       "1       0.042769        0.438585        -0.001652  \n",
       "2       0.008979        0.102833        -0.001652  \n",
       "3       0.004992        0.087969        -0.001652  \n",
       "4       0.004689        0.081639        -0.001652  \n",
       "5       0.004694        0.082585        -0.001652  "
      ]
     },
     "execution_count": 43,
     "metadata": {},
     "output_type": "execute_result"
    }
   ],
   "source": [
    "score_dict['random_0']"
   ]
  },
  {
   "cell_type": "markdown",
   "metadata": {},
   "source": [
    "We can now for example compare the MSE of the 4 different acquisition functions. We observe that all 3 AL algorithms perform better than just randomly choosing data points."
   ]
  },
  {
   "cell_type": "code",
   "execution_count": 47,
   "metadata": {},
   "outputs": [
    {
     "data": {
      "text/plain": [
       "Text(0.5, 0, 'Data points')"
      ]
     },
     "execution_count": 47,
     "metadata": {},
     "output_type": "execute_result"
    },
    {
     "data": {
      "image/png": "[encoded data removed]",
      "text/plain": [
       "<Figure size 640x480 with 1 Axes>"
      ]
     },
     "metadata": {},
     "output_type": "display_data"
    }
   ],
   "source": [
    "for key, df in score_dict.items():\n",
    "    plt.plot(df['m'], df['mean_MSE_test'], 'o--', label=key)\n",
    "plt.legend()\n",
    "plt.yscale('log')\n",
    "plt.ylabel('MSE')\n",
    "plt.xlabel('Data points')"
   ]
  },
  {
   "cell_type": "code",
   "execution_count": null,
   "metadata": {},
   "outputs": [],
   "source": []
  }
 ],
 "metadata": {
  "kernelspec": {
   "display_name": "LECA_dev",
   "language": "python",
   "name": "python3"
  },
  "language_info": {
   "codemirror_mode": {
    "name": "ipython",
    "version": 3
   },
   "file_extension": ".py",
   "mimetype": "text/x-python",
   "name": "python",
   "nbconvert_exporter": "python",
   "pygments_lexer": "ipython3",
   "version": "3.9.0"
  }
 },
 "nbformat": 4,
 "nbformat_minor": 2
}
